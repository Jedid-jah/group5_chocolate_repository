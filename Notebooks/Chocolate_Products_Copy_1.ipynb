{
 "cells": [
  {
   "cell_type": "code",
   "execution_count": 2,
   "id": "7c2601cb-af9e-4f0c-8127-713275c17716",
   "metadata": {},
   "outputs": [],
   "source": [
    "from bs4 import BeautifulSoup as bs4\n",
    "import pandas as pd\n",
    "import requests\n",
    "import csv"
   ]
  },
  {
   "cell_type": "code",
   "execution_count": 5,
   "id": "c7515f90-beb6-448c-a4da-5cf673e9ed57",
   "metadata": {},
   "outputs": [
    {
     "data": {
      "text/plain": [
       "200"
      ]
     },
     "execution_count": 5,
     "metadata": {},
     "output_type": "execute_result"
    }
   ],
   "source": [
    "pages=1\n",
    "url='https://www.chocolate.co.uk/collections/all'\n",
    "send_request=requests.get(url)\n",
    "send_request.status_code"
   ]
  },
  {
   "cell_type": "code",
   "execution_count": 6,
   "id": "7d981dbe-00ad-425e-9dd2-6578380caea4",
   "metadata": {},
   "outputs": [],
   "source": [
    "soup = bs4(send_request.text, 'html')"
   ]
  },
  {
   "cell_type": "code",
   "execution_count": null,
   "id": "9ac29194-4a6b-440d-bf75-97fccafb45ac",
   "metadata": {},
   "outputs": [],
   "source": []
  },
  {
   "cell_type": "code",
   "execution_count": 44,
   "id": "cbb972b4-0faf-4e61-a977-2b2894ee82c2",
   "metadata": {},
   "outputs": [
    {
     "name": "stdout",
     "output_type": "stream",
     "text": [
      "Found 24 products on page\n",
      "Title: 2.5kg Bulk 41% Milk Hot Chocolate Drops\n",
      "Price: Sale price£50.00\n",
      "Ingredients: Milk Chocolate (41% Cocoa Minimum, Pure Cocoa Butter, 19% Milk Solids) (100%): Sugar, Cocoa Butter, Milk Powder, Cocoa Beans, Emulsifier: Soya Lecithin, Vanilla Extract.\n",
      "Title: 2.5kg Bulk 61% Dark Hot Chocolate Drops\n",
      "Price: Sale price£50.00\n",
      "Ingredients: Dark Chocolate (61% Cocoa Minimum, Pure Cocoa Butter) (100%): Cocoa Beans, Sugar, Cocoa Butter, Emulsifier: Soya Lecithin, Vanilla Extract.\n",
      "Title: 41% Milk Hot Chocolate Drops\n",
      "Price: Sale price£8.75\n",
      "Ingredients: Milk Chocolate (41% Cocoa Minimum, Pure Cocoa Butter, 19% Milk Solids) (100%): Sugar, Cocoa Butter, Milk Powder, Cocoa Beans, Emulsifier: Soya Lecithin, Vanilla Extract.\n",
      "Title: 61% Dark Hot Chocolate Drops\n",
      "Price: Sale price£8.75\n",
      "Ingredients: Dark Chocolate (61% Cocoa Minimum, Pure Cocoa Butter) (100%): Cocoa Beans, Sugar, Cocoa Butter, Emulsifier: Soya Lecithin, Vanilla Extract.\n",
      "Title: Almost Perfect\n",
      "Price: Sale priceFrom £1.00\n",
      "Ingredients: No Ingredients\n",
      "Title: Assorted Chocolate Malt Balls\n",
      "Price: Sale price£9.00\n",
      "Ingredients: White Chocolate (25%) (32% Cocoa Minimum, Pure Cocoa Butter) (65%): Cocoa Butter, Sugar, Whole Milk Powder, Skimmed Milk Powder, Whey Powder, Caramelised Sugar, Emulsifier: (Soya Lecithin), Natural Vanilla Flavouring, Salt. Milk Chocolate (41% Cocoa Minimum, Pure Cocoa Butter, 19% Milk Solids): Sugar, Cocoa Butter, Milk Powder, Cocoa Beans, Emulsifier: Sunflower Lecithin, Natural Vanilla Extract. Dark Chocolate (25%) (61% Cocoa Minimum, Pure Cocoa Butter): Cocoa Beans, Sugar, Cocoa Butter, Emulsifier: Sunflower Lecithin, Natural Vanilla Extract. Malt Ball Centres (25%): Corn Syrup, Sugar, Dairy Blend (Whey, Whey Protein Concentrate), Malt Powder (Malted Barley, Wheat, Milk, Hydrolyzed Wheat Gluten, Sodium Bicarbonate, Salt), Malted Barley, Soya Lecithin, Salt. Gum Arabic.\n",
      "Title: Blonde Caramel\n",
      "Price: Sale price£5.00\n",
      "Ingredients: White Chocolate (35% Cocoa Minimum, Pure Cocoa Butter): Cocoa Butter, Sugar, Whole Milk Powder, Skimmed Milk Powder, Whey Powder, Butter, Emulsifier: (Soya Lecithin), Natural Vanilla Flavouring.\n",
      "Title: Blonde Chocolate Honeycomb - Bag\n",
      "Price: Sale price£8.50\n",
      "Ingredients: White Chocolate (Min 35% Cocoa Min, Pure Cocoa Butter, 24.7% Milk Solids): Cocoa Butter, Sugar, Whole Milk Powder, Dried Skimmed Milk, Whey, Butter, Emulsifier: (Soya Lecithin), Natural Vanilla Extract, Honeycomb (Sugar, Glucose Syrup, Bicarbonate of Soda, Honey).\n",
      "Title: Blonde Chocolate Malt Balls\n",
      "Price: Sale price£9.00\n",
      "Ingredients: White Chocolate (32% Cocoa Minimum, Pure Cocoa Butter) (65%): Cocoa Butter, Sugar, Whole Milk Powder, Skimmed Milk Powder, Whey Powder, Caramelised Sugar, Emulsifier: (Soya Lecithin), Natural Vanilla Flavouring, Salt. Malt Ball Centres (35%): Corn Syrup, Sugar, Dairy Blend (Whey, Whey Protein Concentrate), Malt Powder (Malted Barley, Wheat, Milk, Hydrolyzed Wheat Gluten, Sodium Bicarbonate, Salt), Malted Barley, Soya Lecithin, Salt.\n",
      "Title: Blonde Chocolate Truffles\n",
      "Price: Sale price£19.95\n",
      "Ingredients: White Chocolate (32% Cocoa Minimum, Pure Cocoa Butter, 24.7% Milk Solid) Sugar, Cocoa Butter, Whole Milk Powder, Dried Skimmed Milk, Whey, Butter, Emulsifier (Soya Lecithin), Natural Vanilla Extract, Cream, Glucose, Sorbitol, Sunflower Lecithin.\n",
      "Title: Bulk 41% Milk Hot Chocolate Drops 750 grams\n",
      "Price: Sale price£17.50\n",
      "Ingredients: Milk Chocolate (41% Cocoa Minimum, Pure Cocoa Butter, 19% Milk Solids) (100%): Sugar, Cocoa Butter, Milk Powder, Cocoa Beans, Emulsifier: Soya Lecithin, Vanilla Extract.\n",
      "Title: Bulk 61% Dark Hot Chocolate Drops 750 grams\n",
      "Price: Sale price£17.50\n",
      "Ingredients: Dark Chocolate (61% Cocoa Minimum, Pure Cocoa Butter) (100%): Cocoa Beans, Sugar, Cocoa Butter, Emulsifier: Soya Lecithin, Vanilla Extract.\n",
      "Title: Caramelised Milk\n",
      "Price: Sale price£5.00\n",
      "Ingredients: Milk Chocolate (39% Cocoa Solids, Pure Cocoa Butter): Sugar, Cocoa Butter, Whole Milk Powder, Cocoa Solids, Skimmed Milk, Whey (milk), Butter (milk), Emulsifier : Soya Lecithin, Flavourings.\n",
      "Title: Chai Caramel Latte\n",
      "Price: Sale price£5.00\n",
      "Ingredients: Milk Chocolate (35%) (Sugar, Cocoa Butter, Whole Milk Powder, Cocoa Beans, Emulsifier: (Soya Lecithin, Sunflower Lecithin), Natural Vanilla Extract, Blonde Chocolate (65%) (Cocoa Butter, Sugar, Whole Milk Powder, Skimmed Milk Powder, Whey Powder, Butter (Milk), Emulsifier: (Soya Lecithin), Natural Vanilla Flavouring), Star Anise Oil, Ginger Oil, Cinnamon OIl, Clove Oil.\n",
      "Title: Chocolate Caramelised Pecan Nuts\n",
      "Price: Sale price£8.95\n",
      "Ingredients: Caramelised Pecans (60%): Pecan Nut, Sugar. Milk Chocolate (41% Cocoa Minimum, Pure Cocoa Butter, 19% Milk Solids) (40%): Sugar, Cocoa Butter, Milk Powder, Cocoa Mass, Emulsifier: Soya Lecithin, Vanilla Extract.\n",
      "Title: Chocolate Celebration Hamper\n",
      "Price: Sale price£55.00\n",
      "Ingredients: No Ingredients\n",
      "Title: Christmas Cracker\n",
      "Price: Sale price£5.00\n",
      "Ingredients: Milk Chocolate (43% Cocoa Min, Pure Cocoa Butter, 19% Milk Solids) (93%): Sugar, Cocoa Butter, Whole Milk Powder, Cocoa Beans, Emulsifier: (Soya Lecithin), Natural Vanilla Extract. Biscuit Pearls (3.5%): Dark Chocolate Coating (55% Cocoa Min, Pure Cocoa Butter), Sugar, Cocoa Bean, Cocoa Butter, Biscuit Cereal (Wheat Flour, Sugar, Wheat Malt, Wheat Starch, Raising Agent: E500ii, Salt, Cocoa Butter, Natural Flavouring), Whole Milk Powder, Emulsifier: (Sunflower Lecithin), Natural Vanilla Extract. Popping Candy (3.5%): Sugar, Cocoa Butter, Lactose, Milk Powder, Cocoa Paste, Glucose Syrup, Butter, Emulsifier: Soya Lecithin, Vanilla, Propellent Gas: Carbon Dioxide, E290.\n",
      "Title: Cinnamon Toast\n",
      "Price: Sale price£5.00\n",
      "Ingredients: White Chocolate (35% Cocoa Minimum, Pure Cocoa Butter) (95.47%): Cocoa Butter, Sugar, Whole Milk Powder, Skimmed Milk Powder, Whey Powder, Butter, Emulsifier: (Soya Lecithin), Natural Vanilla Flavouring. Sourdough Cracker (4.5%): Milk, Rye Flour, Wheat Flour (Wheat Flour, Calcium, Iron, Thiamin, Niacin), Sourdough 12% (Rye Flour, Water), Wholemeal Wheat Flour, Honey, Salt. Organic Cinnamon Essential Oil (0.03%).\n",
      "Title: Collection of 4 of our Best Selling Chocolate Malt Balls\n",
      "Price: Sale price£30.00\n",
      "Ingredients: Milk Chocolate (75%) (41% Cocoa Minimum, Pure Cocoa Butter, 19% Milk Solids): Sugar, Cocoa Butter, Milk Powder, Cocoa Beans, Emulsifier: Sunflower Lecithin, Natural Vanilla Extract. Malt Ball Centres (25%): Corn Syrup, Sugar, Dairy Blend (Whey, Whey Protein Concentrate), Malt Powder (Malted Barley, Wheat, Milk, Hydrolysed Wheat Gluten, Sodium Bicarbonate, Salt), Malted Barley, Emulsifier: Soya Lecithin. Organic Sweet Orange Essential Oil, Gum Arabic.\n",
      "Title: Colombia 61%\n",
      "Price: Sale price£5.00\n",
      "Ingredients: Dark Chocolate (61% Cocoa Minimum, Pure Cocoa Butter) (100%): Cocoa Beans, Sugar, Cocoa Butter, Emulsifier: (Soya Lecithin), Vanilla Extract.\n",
      "Title: Crunchy Biscuit\n",
      "Price: Sale price£5.00\n",
      "Ingredients: Caramelised White Chocolate (35% Cocoa Minimum, Pure Cocoa Butter) (96%): Cocoa Butter, Sugar, Whole Milk Powder, Skimmed Milk Powder, Whey Powder, Butter, Emulsifier: (Soya Lecithin), Natural Vanilla Flavouring. Biscuit Pearls (4%): Dark Chocolate Coating (55% Cocoa Min, Pure Cocoa Butter), Sugar, Cocoa Bean, Cocoa Butter, Biscuit Cereal (Wheat Flour, Sugar, Wheat Malt, Wheat Starch, Raising Agent: E500ii, Salt, Cocoa Butter, Natural Flavouring), Whole Milk Powder, Emulisifer: (Sunflower Lecithin), Natural Vanilla Extract.\n",
      "Title: Dark Chocolate Ginger\n",
      "Price: Sale price£8.95\n",
      "Ingredients: Ginger (55%): Ginger, Sugar, Wheat Glucose Syrup, Wheat Dextrose. Dark Chocolate (61% Cocoa minimum, Pure Cocoa Butter) (45%): Cocoa Beans, Sugar, Cocoa Butter, Emulsifier: (Soya lecithin), Vanilla Extract.\n",
      "Title: Dark Chocolate Honeycomb - Bag\n",
      "Price: Sale price£8.50\n",
      "Ingredients: Dark Chocolate (61% Cocoa Min, Pure Cocoa Butter) Cocoa Beans, Sugar, Cocoa Butter, Emulsifier: (Soya Lecithin), Natural Vanilla Extract, Honeycomb (Sugar, Glucose Syrup, Bicarbonate of Soda, Honey).\n",
      "Title: Dark Chocolate Malt Balls\n",
      "Price: Sale price£9.00\n",
      "Ingredients: Dark Chocolate (61% Cocoa Minimum, Pure Cocoa Butter): Cocoa Beans, Sugar, Cocoa Butter, Emulsifier: Soya Lecithin, Natural Vanilla Extract. Malt Ball Centres (35%): Corn Syrup, Sugar, Dairy Blend (Whey, Whey Protein Concentrate), Malt Powder (Malted Barley, Wheat, Milk, Hydrolyzed Wheat Gluten, Sodium Bicarbonate, Salt), Malted Barley, Soya Lecithin, Salt.\n"
     ]
    }
   ],
   "source": [
    "chocolate_cards = soup.find_all('div', class_='product-item__info')\n",
    "print(f\"Found {len(chocolate_cards)} products on page\")\n",
    "\n",
    "for card in chocolate_cards:\n",
    "    # Title and URL\n",
    "    title_div = card.find('div', class_='product-item-meta')\n",
    "    title_tag = title_div.find('a') if title_div else None\n",
    "    title = title_tag.text.strip() if title_tag else \"No Title\"\n",
    "    product_url = title_tag['href'] if title_tag else None\n",
    "\n",
    "    # Price\n",
    "    price_tag = card.find('div', class_='product-item-meta__price-list-container')\n",
    "    price_span = price_tag.find('span', class_='price') if price_tag else None\n",
    "    price = price_span.text.strip() if price_span else \"No Price\"\n",
    "\n",
    "    # Ingredients\n",
    "    if product_url:\n",
    "        product_page = requests.get(f'https://www.chocolate.co.uk{product_url}')\n",
    "        product_soup = bs4(product_page.text, 'html.parser')\n",
    "\n",
    "        ingredients_div = product_soup.find('div', class_='metafield-rich_text_field')\n",
    "        if ingredients_div:\n",
    "            paragraphs = ingredients_div.find_all('p')\n",
    "            ingredients = \"No Ingredients\"\n",
    "\n",
    "            for p in paragraphs:\n",
    "                if 'Ingredients:' in p.text:\n",
    "                    ingredients = p.text.replace(\"Ingredients:\", \"\").strip()\n",
    "                    break\n",
    "        else:\n",
    "            ingredients = \"No Ingredients\"\n",
    "    else:\n",
    "        ingredients = \"No URL\"\n",
    "\n",
    "    # Print per product\n",
    "    print(f\"Title: {title}\")\n",
    "    print(f\"Price: {price}\")\n",
    "    print(f\"Ingredients: {ingredients}\")"
   ]
  },
  {
   "cell_type": "code",
   "execution_count": null,
   "id": "53ef10b8-e8a8-44ed-9762-5cb05fa5fb6e",
   "metadata": {},
   "outputs": [],
   "source": []
  },
  {
   "cell_type": "code",
   "execution_count": null,
   "id": "f5f6e528-7810-4645-b836-d65fb44cd7cb",
   "metadata": {},
   "outputs": [],
   "source": []
  }
 ],
 "metadata": {
  "kernelspec": {
   "display_name": "Python 3 (ipykernel)",
   "language": "python",
   "name": "python3"
  },
  "language_info": {
   "codemirror_mode": {
    "name": "ipython",
    "version": 3
   },
   "file_extension": ".py",
   "mimetype": "text/x-python",
   "name": "python",
   "nbconvert_exporter": "python",
   "pygments_lexer": "ipython3",
   "version": "3.12.7"
  }
 },
 "nbformat": 4,
 "nbformat_minor": 5
}
