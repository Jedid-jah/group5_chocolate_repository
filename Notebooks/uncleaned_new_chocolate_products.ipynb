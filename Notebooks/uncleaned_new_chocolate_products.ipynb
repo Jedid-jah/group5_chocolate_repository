{
 "cells": [
  {
   "cell_type": "code",
   "execution_count": 2,
   "id": "84ecaac6",
   "metadata": {
    "vscode": {
     "languageId": "plaintext"
    }
   },
   "outputs": [
    {
     "name": "stdout",
     "output_type": "stream",
     "text": [
      "Found 24 products on page 1\n",
      "Found 24 products on page 2\n",
      "Found 6 products on page 3\n",
      "\n",
      "Scraped 54 products in total.\n",
      "\n",
      "                                      Name                 Price  \\\n",
      "0  2.5kg Bulk 41% Milk Hot Chocolate Drops      Sale price£50.00   \n",
      "1  2.5kg Bulk 61% Dark Hot Chocolate Drops      Sale price£50.00   \n",
      "2             41% Milk Hot Chocolate Drops       Sale price£8.75   \n",
      "3             61% Dark Hot Chocolate Drops       Sale price£8.75   \n",
      "4                           Almost Perfect  Sale priceFrom £1.00   \n",
      "\n",
      "                                         Ingredients  \\\n",
      "0  Milk Chocolate (41% Cocoa Minimum, Pure Cocoa ...   \n",
      "1  Dark Chocolate (61% Cocoa Minimum, Pure Cocoa ...   \n",
      "2  Milk Chocolate (41% Cocoa Minimum, Pure Cocoa ...   \n",
      "3  Dark Chocolate (61% Cocoa Minimum, Pure Cocoa ...   \n",
      "4                                     No Ingredients   \n",
      "\n",
      "                                                 URL  \n",
      "0  https://www.chocolate.co.uk/products/2-5kg-bul...  \n",
      "1  https://www.chocolate.co.uk/products/2-5kg-of-...  \n",
      "2  https://www.chocolate.co.uk/products/41-colomb...  \n",
      "3  https://www.chocolate.co.uk/products/62-dark-h...  \n",
      "4  https://www.chocolate.co.uk/products/almost-pe...  \n"
     ]
    }
   ],
   "source": [
    "from bs4 import BeautifulSoup as bs4\n",
    "import pandas as pd\n",
    "import requests\n",
    "import csv\n",
    "\n",
    "pages=1\n",
    "url='https://www.chocolate.co.uk/collections/all'\n",
    "send_request=requests.get(url)\n",
    "send_request.status_code\n",
    "def scrape_all_products(pages=3):\n",
    "    headers = {\n",
    "    'User-Agent': 'Mozilla/5.0 (Windows NT 10.0; Win64; x64) AppleWebKit/537.36 (KHTML, like Gecko) Chrome/122.0.0.0 Safari/537.36',\n",
    "    'Accept-Language': 'en-US,en;q=0.9',\n",
    "             }\n",
    "    \n",
    "    all_products = []\n",
    "\n",
    "    for page in range(1, pages + 1):\n",
    "        url = f\"https://www.chocolate.co.uk/collections/all?page={page}\"\n",
    "\n",
    "        try:\n",
    "            send_request = requests.get(url, headers=headers)\n",
    "            send_request.raise_for_status()\n",
    "            soup = bs4(send_request.text, 'html.parser')\n",
    "        except requests.exceptions.RequestException as e:\n",
    "            print(f\"Failed to fetch page {page}: {e}\")\n",
    "            continue\n",
    "\n",
    "        \n",
    "        chocolate_cards = soup.find_all('div', class_='product-item__info')\n",
    "        print(f\"Found {len(chocolate_cards)} products on page {page}\")\n",
    "\n",
    "        for card in chocolate_cards:\n",
    "           \n",
    "            title_div = card.find('div', class_='product-item-meta')\n",
    "            title_tag = title_div.find('a') if title_div else None\n",
    "            Name = title_tag.text.strip() if title_tag else \"No Title\"\n",
    "            product_url = title_tag['href'] if title_tag else None\n",
    "\n",
    "          \n",
    "            price_tag = card.find('div', class_='product-item-meta__price-list-container')\n",
    "            price_span = price_tag.find('span', class_='price') if price_tag else None\n",
    "            price = price_span.text.strip() if price_span else \"No Price\"\n",
    "\n",
    "           \n",
    "            if product_url:\n",
    "                product_page = requests.get(f'https://www.chocolate.co.uk{product_url}', headers=headers)\n",
    "                product_soup = bs4(product_page.text, 'html.parser')\n",
    "                ingredients = \"No Ingredients\"\n",
    "                \n",
    "                ingredients_div = product_soup.find('div', class_='metafield-rich_text_field')\n",
    "                if ingredients_div:\n",
    "                    for p in ingredients_div.find_all('p'):\n",
    "                        if 'Ingredients:' in p.text:\n",
    "                            ingredients = p.text.replace(\"Ingredients:\", \"\").strip()\n",
    "                            break\n",
    "            else:\n",
    "                ingredients = \"No URL\"\n",
    "            full_url=f'https://www.chocolate.co.uk{product_url}'\n",
    "           \n",
    "            product = {\n",
    "                \"Name\": Name,\n",
    "                \"Price\": price,\n",
    "                \"Ingredients\": ingredients,\n",
    "                \"URL\": full_url\n",
    "            }\n",
    "\n",
    "            all_products.append(product)\n",
    "\n",
    "    df = pd.DataFrame(all_products)\n",
    "    print(f\"\\nScraped {len(df)} products in total.\\n\")\n",
    "    print(df.head())\n",
    "\n",
    "    return df\n",
    "\n",
    "\n",
    "data = scrape_all_products(3)"
   ]
  },
  {
   "cell_type": "code",
   "execution_count": null,
   "id": "0c695302",
   "metadata": {
    "vscode": {
     "languageId": "plaintext"
    }
   },
   "outputs": [],
   "source": []
  },
  {
   "cell_type": "code",
   "execution_count": null,
   "id": "6683f774-99a5-4aed-9d15-64a4511bdc75",
   "metadata": {},
   "outputs": [],
   "source": []
  }
 ],
 "metadata": {
  "kernelspec": {
   "display_name": "Python 3 (ipykernel)",
   "language": "python",
   "name": "python3"
  },
  "language_info": {
   "codemirror_mode": {
    "name": "ipython",
    "version": 3
   },
   "file_extension": ".py",
   "mimetype": "text/x-python",
   "name": "python",
   "nbconvert_exporter": "python",
   "pygments_lexer": "ipython3",
   "version": "3.12.7"
  }
 },
 "nbformat": 4,
 "nbformat_minor": 5
}
