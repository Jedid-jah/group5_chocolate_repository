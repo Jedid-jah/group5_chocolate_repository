{
 "cells": [
  {
   "cell_type": "code",
   "execution_count": 1,
   "id": "7c2601cb-af9e-4f0c-8127-713275c17716",
   "metadata": {},
   "outputs": [],
   "source": []
  },
  {
   "cell_type": "code",
   "execution_count": 1,
   "id": "c859f930-3efd-48fd-8382-31b59b9fc521",
   "metadata": {},
   "outputs": [
    {
     "name": "stdout",
     "output_type": "stream",
     "text": [
      "Found 24 products on page 1\n",
      "Found 24 products on page 2\n",
      "Found 6 products on page 3\n",
      "\n",
      "Scraped 54 products in total.\n",
      "\n",
      "                                      Name                 Price  \\\n",
      "0  2.5kg Bulk 41% Milk Hot Chocolate Drops      Sale price£50.00   \n",
      "1  2.5kg Bulk 61% Dark Hot Chocolate Drops      Sale price£50.00   \n",
      "2             41% Milk Hot Chocolate Drops       Sale price£8.75   \n",
      "3             61% Dark Hot Chocolate Drops       Sale price£8.75   \n",
      "4                           Almost Perfect  Sale priceFrom £1.00   \n",
      "\n",
      "                                         Ingredients  \\\n",
      "0  Milk Chocolate (41% Cocoa Minimum, Pure Cocoa ...   \n",
      "1  Dark Chocolate (61% Cocoa Minimum, Pure Cocoa ...   \n",
      "2  Milk Chocolate (41% Cocoa Minimum, Pure Cocoa ...   \n",
      "3  Dark Chocolate (61% Cocoa Minimum, Pure Cocoa ...   \n",
      "4                                     No Ingredients   \n",
      "\n",
      "                                                 URL  \n",
      "0  https://www.chocolate.co.uk/products/2-5kg-bul...  \n",
      "1  https://www.chocolate.co.uk/products/2-5kg-of-...  \n",
      "2  https://www.chocolate.co.uk/products/41-colomb...  \n",
      "3  https://www.chocolate.co.uk/products/62-dark-h...  \n",
      "4  https://www.chocolate.co.uk/products/almost-pe...  \n"
     ]
    }
   ],
   "source": [
    "from bs4 import BeautifulSoup as bs4\n",
    "import pandas as pd\n",
    "import requests\n",
    "import csv\n",
    "def scrape_all_products(pages=3):\n",
    "    headers = {\n",
    "    'User-Agent': 'Mozilla/5.0 (Windows NT 10.0; Win64; x64) AppleWebKit/537.36 (KHTML, like Gecko) Chrome/122.0.0.0 Safari/537.36',\n",
    "    'Accept-Language': 'en-US,en;q=0.9',\n",
    "             }\n",
    "    \n",
    "    all_products = []\n",
    "\n",
    "    for page in range(1, pages + 1):\n",
    "        url = f\"https://www.chocolate.co.uk/collections/all?page={page}\"\n",
    "\n",
    "        try:\n",
    "            send_request = requests.get(url, headers=headers)\n",
    "            send_request.raise_for_status()\n",
    "            soup = bs4(send_request.text, 'html.parser')\n",
    "        except requests.exceptions.RequestException as e:\n",
    "            print(f\"Failed to fetch page {page}: {e}\")\n",
    "            continue\n",
    "\n",
    "        \n",
    "        chocolate_cards = soup.find_all('div', class_='product-item__info')\n",
    "        print(f\"Found {len(chocolate_cards)} products on page {page}\")\n",
    "\n",
    "        for card in chocolate_cards:\n",
    "           \n",
    "            title_div = card.find('div', class_='product-item-meta')\n",
    "            title_tag = title_div.find('a') if title_div else None\n",
    "            Name = title_tag.text.strip() if title_tag else \"No Title\"\n",
    "            product_url = title_tag['href'] if title_tag else None\n",
    "\n",
    "          \n",
    "            price_tag = card.find('div', class_='product-item-meta__price-list-container')\n",
    "            price_span = price_tag.find('span', class_='price') if price_tag else None\n",
    "            price = price_span.text.strip() if price_span else \"No Price\"\n",
    "\n",
    "           \n",
    "            if product_url:\n",
    "                product_page = requests.get(f'https://www.chocolate.co.uk{product_url}', headers=headers)\n",
    "                product_soup = bs4(product_page.text, 'html.parser')\n",
    "                ingredients = \"No Ingredients\"\n",
    "                \n",
    "                ingredients_div = product_soup.find('div', class_='metafield-rich_text_field')\n",
    "                if ingredients_div:\n",
    "                    for p in ingredients_div.find_all('p'):\n",
    "                        if 'Ingredients:' in p.text:\n",
    "                            ingredients = p.text.replace(\"Ingredients:\", \"\").strip()\n",
    "                            break\n",
    "            else:\n",
    "                ingredients = \"No URL\"\n",
    "            full_url=f'https://www.chocolate.co.uk{product_url}'\n",
    "           \n",
    "            product = {\n",
    "                \"Name\": Name,\n",
    "                \"Price\": price,\n",
    "                \"Ingredients\": ingredients,\n",
    "                \"URL\": full_url\n",
    "            }\n",
    "\n",
    "            all_products.append(product)\n",
    "\n",
    "    df = pd.DataFrame(all_products)\n",
    "    print(f\"\\nScraped {len(df)} products in total.\\n\")\n",
    "    print(df.head())\n",
    "\n",
    "    return df\n",
    "\n",
    "\n",
    "data = scrape_all_products(3)\n",
    "                          "
   ]
  },
  {
   "cell_type": "code",
   "execution_count": null,
   "id": "c7515f90-beb6-448c-a4da-5cf673e9ed57",
   "metadata": {},
   "outputs": [],
   "source": [
    "data.to_csv('New_chocolate_product_dataset.csv', index=False)"
   ]
  },
  {
   "cell_type": "code",
   "execution_count": null,
   "id": "53ef10b8-e8a8-44ed-9762-5cb05fa5fb6e",
   "metadata": {},
   "outputs": [],
   "source": [
    "data.isna().sum()"
   ]
  },
  {
   "cell_type": "code",
   "execution_count": null,
   "id": "f5f6e528-7810-4645-b836-d65fb44cd7cb",
   "metadata": {},
   "outputs": [],
   "source": [
    "#data.duplicated()\n"
   ]
  },
  {
   "cell_type": "code",
   "execution_count": 3,
   "id": "32b95ed6-e4ee-4dd6-99bf-3939cbd31dc1",
   "metadata": {},
   "outputs": [
    {
     "ename": "NameError",
     "evalue": "name 'pd' is not defined",
     "output_type": "error",
     "traceback": [
      "\u001b[1;31m---------------------------------------------------------------------------\u001b[0m",
      "\u001b[1;31mNameError\u001b[0m                                 Traceback (most recent call last)",
      "Cell \u001b[1;32mIn[3], line 1\u001b[0m\n\u001b[1;32m----> 1\u001b[0m df \u001b[38;5;241m=\u001b[39m pd\u001b[38;5;241m.\u001b[39mread_csv(\u001b[38;5;124mr\u001b[39m\u001b[38;5;124m\"\u001b[39m\u001b[38;5;124mC:\u001b[39m\u001b[38;5;124m\\\u001b[39m\u001b[38;5;124mUsers\u001b[39m\u001b[38;5;124m\\\u001b[39m\u001b[38;5;124muser\u001b[39m\u001b[38;5;124m\\\u001b[39m\u001b[38;5;124mDownloads\u001b[39m\u001b[38;5;124m\\\u001b[39m\u001b[38;5;124mChocolate_Products\u001b[39m\u001b[38;5;124m\\\u001b[39m\u001b[38;5;124mNew_chocolate_product_dataset.csv\u001b[39m\u001b[38;5;124m\"\u001b[39m)\n\u001b[0;32m      3\u001b[0m df[\u001b[38;5;124m'\u001b[39m\u001b[38;5;124mPrice\u001b[39m\u001b[38;5;124m'\u001b[39m] \u001b[38;5;241m=\u001b[39m df[\u001b[38;5;124m'\u001b[39m\u001b[38;5;124mPrice\u001b[39m\u001b[38;5;124m'\u001b[39m]\u001b[38;5;241m.\u001b[39mstr\u001b[38;5;241m.\u001b[39mreplace(\u001b[38;5;124m'\u001b[39m\u001b[38;5;124mSale price\u001b[39m\u001b[38;5;124m'\u001b[39m, \u001b[38;5;124m'\u001b[39m\u001b[38;5;124m'\u001b[39m, regex\u001b[38;5;241m=\u001b[39m\u001b[38;5;28;01mFalse\u001b[39;00m)\n\u001b[0;32m      4\u001b[0m df[\u001b[38;5;124m'\u001b[39m\u001b[38;5;124mPrice\u001b[39m\u001b[38;5;124m'\u001b[39m] \u001b[38;5;241m=\u001b[39m df[\u001b[38;5;124m'\u001b[39m\u001b[38;5;124mPrice\u001b[39m\u001b[38;5;124m'\u001b[39m]\u001b[38;5;241m.\u001b[39mstr\u001b[38;5;241m.\u001b[39mreplace(\u001b[38;5;124m'\u001b[39m\u001b[38;5;124mFrom\u001b[39m\u001b[38;5;124m'\u001b[39m, \u001b[38;5;124m'\u001b[39m\u001b[38;5;124m'\u001b[39m, regex\u001b[38;5;241m=\u001b[39m\u001b[38;5;28;01mFalse\u001b[39;00m)\n",
      "\u001b[1;31mNameError\u001b[0m: name 'pd' is not defined"
     ]
    }
   ],
   "source": [
    "df = pd.read_csv(r\"C:\\Users\\user\\Downloads\\Chocolate_Products\\New_chocolate_product_dataset.csv\")\n",
    "\n",
    "df['Price'] = df['Price'].str.replace('Sale price', '', regex=False)\n",
    "df['Price'] = df['Price'].str.replace('From', '', regex=False)\n",
    "df['Price'] = df['Price'].str.strip()\n",
    "\n",
    "df['Price (€)'] = df['Price'].str.replace(r'[^\\d.]', '', regex=True).astype(float).astype(int)\n",
    "df['Name'] = df['Name'].str.title()\n",
    "\n",
    "exchange_rate = 1.1424\n",
    "df['Price ($)'] = (df['Price (€)'] * exchange_rate)\n",
    "df['Price ($)'] = df['Price ($)'].map(lambda x: ('%.4f' % x).rstrip('0').rstrip('.'))\n",
    "\n",
    "del df['Price']\n",
    "\n",
    "cols = list(df.columns)\n",
    "cols.remove('Ingredients')\n",
    "cols.append('Ingredients')\n",
    "cols.remove('URL')\n",
    "cols.append('URL')\n",
    "df = df[cols]\n",
    "\n",
    "df1 = df.style.set_table_styles([\n",
    "    {'selector': 'th', 'props': [('text-align', 'center')]},  \n",
    "    {'selector': 'td', 'props': [('text-align', 'center')]},\n",
    "]).set_properties(\n",
    "    subset=['Name'],\n",
    "    **{'text-align': 'right'}\n",
    ")\n"
   ]
  },
  {
   "cell_type": "code",
   "execution_count": null,
   "id": "92847adb-64fb-4766-8b7a-3b8e4270160e",
   "metadata": {},
   "outputs": [],
   "source": [
    "df"
   ]
  },
  {
   "cell_type": "code",
   "execution_count": null,
   "id": "4029f1b5-3b77-4f28-81a6-cc4b9703b84b",
   "metadata": {},
   "outputs": [],
   "source": [
    "df.to_csv('final_chocolate_product_dataset.csv', index=False)"
   ]
  },
  {
   "cell_type": "code",
   "execution_count": null,
   "id": "a8a279fa-5d1b-4eb4-9963-2e6f435486f7",
   "metadata": {},
   "outputs": [],
   "source": []
  },
  {
   "cell_type": "code",
   "execution_count": null,
   "id": "5e4fb81d-f96a-488d-a07b-619d05ef4bec",
   "metadata": {},
   "outputs": [],
   "source": []
  }
 ],
 "metadata": {
  "kernelspec": {
   "display_name": "Python 3 (ipykernel)",
   "language": "python",
   "name": "python3"
  },
  "language_info": {
   "codemirror_mode": {
    "name": "ipython",
    "version": 3
   },
   "file_extension": ".py",
   "mimetype": "text/x-python",
   "name": "python",
   "nbconvert_exporter": "python",
   "pygments_lexer": "ipython3",
   "version": "3.12.7"
  }
 },
 "nbformat": 4,
 "nbformat_minor": 5
}
